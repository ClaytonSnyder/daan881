{
 "cells": [
  {
   "cell_type": "code",
   "execution_count": 7,
   "metadata": {},
   "outputs": [
    {
     "name": "stderr",
     "output_type": "stream",
     "text": [
      "C:\\Users\\clayt\\AppData\\Local\\Temp\\ipykernel_11960\\3819297892.py:3: DtypeWarning: Columns (9,18,21) have mixed types. Specify dtype option on import or set low_memory=False.\n",
      "  df = pd.read_csv('../Deliverable2/daan881_group4_dataset.csv')\n"
     ]
    },
    {
     "name": "stdout",
     "output_type": "stream",
     "text": [
      "cve                    263420\n",
      "date_updated           225393\n",
      "date_reserved           33719\n",
      "date_published         127819\n",
      "state                       2\n",
      "assigner                  353\n",
      "affected                30564\n",
      "problem_types           14191\n",
      "cvss_v4_score              54\n",
      "cvss_v4_severity            4\n",
      "cvss_v3_1_score            85\n",
      "cvss_v3_1_severity          5\n",
      "cvss_v3_score              82\n",
      "cvss_v3_severity            5\n",
      "cvss_v2_score              43\n",
      "cvss_v2_severity            0\n",
      "attack_vector               5\n",
      "attack_complexity           3\n",
      "attack_requirements         2\n",
      "privileges_required         3\n",
      "user_interaction            4\n",
      "exploit_maturity            5\n",
      "epss                    16851\n",
      "percentile              47434\n",
      "dtype: int64\n"
     ]
    }
   ],
   "source": [
    "import pandas as pd\n",
    "\n",
    "df = pd.read_csv('../Deliverable2/daan881_group4_dataset.csv')\n",
    "\n",
    "# Count unique values in each column\n",
    "unique_counts = df.nunique()\n",
    "\n",
    "print(unique_counts)"
   ]
  },
  {
   "cell_type": "markdown",
   "metadata": {},
   "source": [
    "### Unique Values for CVSS v4.0 Severity"
   ]
  },
  {
   "cell_type": "code",
   "execution_count": 8,
   "metadata": {},
   "outputs": [
    {
     "name": "stdout",
     "output_type": "stream",
     "text": [
      "[nan 'MEDIUM' 'HIGH' 'CRITICAL' 'LOW']\n"
     ]
    }
   ],
   "source": [
    "unique_values = df['cvss_v4_severity'].unique()\n",
    "\n",
    "print(unique_values) "
   ]
  },
  {
   "cell_type": "markdown",
   "metadata": {},
   "source": [
    "### Unique Values for CVSS v3.1 Severity"
   ]
  },
  {
   "cell_type": "code",
   "execution_count": 9,
   "metadata": {},
   "outputs": [
    {
     "name": "stdout",
     "output_type": "stream",
     "text": [
      "[nan 'CRITICAL' 'HIGH' 'MEDIUM' 'LOW' 'NONE']\n"
     ]
    }
   ],
   "source": [
    "unique_values = df['cvss_v3_1_severity'].unique()\n",
    "\n",
    "print(unique_values) "
   ]
  },
  {
   "cell_type": "markdown",
   "metadata": {},
   "source": [
    "### Unique Values for CVSS v3.0 Severity"
   ]
  },
  {
   "cell_type": "code",
   "execution_count": 10,
   "metadata": {},
   "outputs": [
    {
     "name": "stdout",
     "output_type": "stream",
     "text": [
      "[nan 'MEDIUM' 'LOW' 'HIGH' 'CRITICAL' 'NONE']\n"
     ]
    }
   ],
   "source": [
    "unique_values = df['cvss_v3_severity'].unique()\n",
    "\n",
    "print(unique_values) "
   ]
  },
  {
   "cell_type": "markdown",
   "metadata": {},
   "source": [
    "### Unique Values for State"
   ]
  },
  {
   "cell_type": "code",
   "execution_count": 11,
   "metadata": {},
   "outputs": [
    {
     "name": "stdout",
     "output_type": "stream",
     "text": [
      "['PUBLISHED' 'REJECTED']\n"
     ]
    }
   ],
   "source": [
    "unique_values = df['state'].unique()\n",
    "\n",
    "print(unique_values) "
   ]
  },
  {
   "cell_type": "markdown",
   "metadata": {},
   "source": [
    "### Counts of nulls in each column"
   ]
  },
  {
   "cell_type": "code",
   "execution_count": 15,
   "metadata": {},
   "outputs": [
    {
     "name": "stdout",
     "output_type": "stream",
     "text": [
      "cve                         0\n",
      "date_updated                0\n",
      "date_reserved             506\n",
      "date_published           3511\n",
      "state                       0\n",
      "assigner                    5\n",
      "affected               165071\n",
      "problem_types          156662\n",
      "cvss_v4_score          261640\n",
      "cvss_v4_severity       261640\n",
      "cvss_v3_1_score        207945\n",
      "cvss_v3_1_severity     207945\n",
      "cvss_v3_score          246556\n",
      "cvss_v3_severity       246556\n",
      "cvss_v2_score          259286\n",
      "cvss_v2_severity       263420\n",
      "attack_vector          208643\n",
      "attack_complexity      208642\n",
      "attack_requirements    262790\n",
      "privileges_required    208643\n",
      "user_interaction       208643\n",
      "exploit_maturity       259676\n",
      "epss                     3858\n",
      "percentile               3858\n",
      "dtype: int64\n"
     ]
    }
   ],
   "source": [
    "# Count non-null values in each column\n",
    "null_counts = df.isna().sum()\n",
    "print(null_counts)"
   ]
  },
  {
   "cell_type": "markdown",
   "metadata": {},
   "source": [
    "### Check for duplicates"
   ]
  },
  {
   "cell_type": "code",
   "execution_count": 16,
   "metadata": {},
   "outputs": [
    {
     "name": "stdout",
     "output_type": "stream",
     "text": [
      "Empty DataFrame\n",
      "Columns: [cve, date_updated, date_reserved, date_published, state, assigner, affected, problem_types, cvss_v4_score, cvss_v4_severity, cvss_v3_1_score, cvss_v3_1_severity, cvss_v3_score, cvss_v3_severity, cvss_v2_score, cvss_v2_severity, attack_vector, attack_complexity, attack_requirements, privileges_required, user_interaction, exploit_maturity, epss, percentile]\n",
      "Index: []\n",
      "\n",
      "[0 rows x 24 columns]\n"
     ]
    }
   ],
   "source": [
    "# Check for duplicates across all columns\n",
    "duplicates = df.duplicated()\n",
    "\n",
    "# Print the duplicate rows\n",
    "print(df[duplicates])"
   ]
  }
 ],
 "metadata": {
  "kernelspec": {
   "display_name": ".venv",
   "language": "python",
   "name": "python3"
  },
  "language_info": {
   "codemirror_mode": {
    "name": "ipython",
    "version": 3
   },
   "file_extension": ".py",
   "mimetype": "text/x-python",
   "name": "python",
   "nbconvert_exporter": "python",
   "pygments_lexer": "ipython3",
   "version": "3.11.9"
  }
 },
 "nbformat": 4,
 "nbformat_minor": 2
}
